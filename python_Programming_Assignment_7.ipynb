{
 "cells": [
  {
   "cell_type": "markdown",
   "id": "1de095b5-fda0-48a6-b7e2-fd21912ef70c",
   "metadata": {},
   "source": [
    "1. Write a Python Program to find sum of array?"
   ]
  },
  {
   "cell_type": "code",
   "execution_count": 1,
   "id": "e8607430-23f1-45f3-b9db-e113b46518dc",
   "metadata": {},
   "outputs": [
    {
     "name": "stdout",
     "output_type": "stream",
     "text": [
      "sum of array 150\n"
     ]
    }
   ],
   "source": [
    "array = [10,20,30,40,50]\n",
    "total = 0\n",
    "for i in array:\n",
    "    total = total+i\n",
    "print(\"sum of array\",total)"
   ]
  },
  {
   "cell_type": "markdown",
   "id": "2bb4bbea-54d1-4a9f-b3f8-50594d298a9f",
   "metadata": {},
   "source": [
    "2. Write a Python Program to find largest element in an array?"
   ]
  },
  {
   "cell_type": "code",
   "execution_count": 8,
   "id": "52ff1250-fd6e-4c8f-aa96-df72df022377",
   "metadata": {},
   "outputs": [
    {
     "name": "stdout",
     "output_type": "stream",
     "text": [
      "Largest element in the array is: 90\n"
     ]
    }
   ],
   "source": [
    "arr = [45, 78, 23, 90, 12]\n",
    "largest = arr[0]\n",
    "\n",
    "for num in arr:\n",
    "    if num > largest:\n",
    "        largest = num\n",
    "\n",
    "print(\"Largest element in the array is:\", largest)\n"
   ]
  },
  {
   "cell_type": "markdown",
   "id": "7f876e70-1c7b-488b-a029-4046a6dbb68e",
   "metadata": {},
   "source": [
    "3. Write a Python Program for array rotation?"
   ]
  },
  {
   "cell_type": "code",
   "execution_count": 18,
   "id": "1e288192-f579-4c65-ab27-9890dfa62310",
   "metadata": {},
   "outputs": [
    {
     "name": "stdout",
     "output_type": "stream",
     "text": [
      "Rotated array: [2, 3, 4, 5, 1]\n"
     ]
    }
   ],
   "source": [
    "arr = [1, 2, 3, 4, 5]\n",
    "first = arr[0]\n",
    "\n",
    "for i in range(1, len(arr)):\n",
    "    arr[i - 1] = arr[i]\n",
    "\n",
    "arr[-1] = first\n",
    "print(\"Rotated array:\", arr)\n"
   ]
  },
  {
   "cell_type": "markdown",
   "id": "15819966-9148-4e82-be64-503e92fafece",
   "metadata": {},
   "source": [
    "4. Write a Python Program to Split the array and add the first part to the end?"
   ]
  },
  {
   "cell_type": "code",
   "execution_count": 17,
   "id": "f9aa05da-13af-4686-afef-0fac7aa43d9e",
   "metadata": {},
   "outputs": [
    {
     "name": "stdout",
     "output_type": "stream",
     "text": [
      "Modified array: [60, 10, 20, 30, 40, 50]\n"
     ]
    }
   ],
   "source": [
    "arr = [10, 20, 30, 40, 50, 60]\n",
    "k = 5\n",
    "\n",
    "arr = arr[k:] + arr[:k]\n",
    "print(\"Modified array:\", arr)\n"
   ]
  },
  {
   "cell_type": "markdown",
   "id": "571d84d8-c302-48b2-bfcd-a4dc876357fa",
   "metadata": {},
   "source": [
    "5. Write a Python Program to check if given array is Monotonic?"
   ]
  },
  {
   "cell_type": "code",
   "execution_count": 12,
   "id": "64d36a16-4661-4f7a-b40d-641888d2b859",
   "metadata": {},
   "outputs": [
    {
     "name": "stdout",
     "output_type": "stream",
     "text": [
      "Monotonic Array\n"
     ]
    }
   ],
   "source": [
    "#arr = [1, 2, 2, 3,1,2,5]\n",
    "arr = [1,2,3,4,5,6]\n",
    "\n",
    "inc = True\n",
    "dec = True\n",
    "\n",
    "for i in range(len(arr) - 1):\n",
    "    if arr[i] > arr[i + 1]:\n",
    "        inc = False  \n",
    "    if arr[i] < arr[i + 1]:\n",
    "        dec = False  \n",
    "\n",
    "if inc or dec:\n",
    "    print(\"Monotonic Array\")\n",
    "else:\n",
    "    print(\"Not a Monotonic Array\")\n"
   ]
  },
  {
   "cell_type": "code",
   "execution_count": null,
   "id": "d96b3e64-7312-451f-a9e4-98003e80fe3b",
   "metadata": {},
   "outputs": [],
   "source": []
  }
 ],
 "metadata": {
  "kernelspec": {
   "display_name": "Python 3 (ipykernel)",
   "language": "python",
   "name": "python3"
  },
  "language_info": {
   "codemirror_mode": {
    "name": "ipython",
    "version": 3
   },
   "file_extension": ".py",
   "mimetype": "text/x-python",
   "name": "python",
   "nbconvert_exporter": "python",
   "pygments_lexer": "ipython3",
   "version": "3.12.7"
  }
 },
 "nbformat": 4,
 "nbformat_minor": 5
}
